{
 "cells": [
  {
   "cell_type": "code",
   "execution_count": 45,
   "id": "2a813176",
   "metadata": {
    "scrolled": true
   },
   "outputs": [
    {
     "name": "stdout",
     "output_type": "stream",
     "text": [
      "大樂透目前頭獎預估金額： 0100000000\n",
      "大樂透期數： 112/10/24 第112000097期 \n",
      "開出順序:34 43 49 29 41 07 \n",
      "大小順序: 07 29 34 41 43 49 \n",
      "特別號: 22 \n"
     ]
    }
   ],
   "source": [
    "import requests\n",
    "from bs4 import BeautifulSoup\n",
    "\n",
    "url = \"https://www.taiwanlottery.com.tw/index_new.aspx\"\n",
    "html = requests.get(url)\n",
    "sp = BeautifulSoup(html.text,\"html.parser\")\n",
    "data0 = sp.find_all(\"span\",\"font_black15\")\n",
    "data3 = sp.find_all(\"div\",\"top_dollar\")\n",
    "latest_price = data3[1].text\n",
    "latest_issue = data0[4].text\n",
    "\n",
    "data1 = sp.find_all(\"div\",\"contents_box02\")\n",
    "data2 = data1[2].find_all(\"div\",\"ball_tx ball_yellow\")\n",
    "print(\"大樂透目前頭獎預估金額：\",latest_price )\n",
    "print(\"大樂透期數：\", latest_issue)\n",
    "\n",
    "print(\"開出順序:\", end=\"\")\n",
    "for n in range(0,6):\n",
    "    print(data2[n].text,end=\"\")\n",
    "print(\"\\n大小順序: \",end=\"\")\n",
    "for n in range(6,len(data2)):\n",
    "    print(data2[n].text,end=\"\")\n",
    "\n",
    "red = data1[2].find(\"div\",\"ball_red\")\n",
    "print(\"\\n特別號: {}\".format(red.text))\n"
   ]
  },
  {
   "cell_type": "code",
   "execution_count": null,
   "id": "74b34044",
   "metadata": {},
   "outputs": [],
   "source": []
  }
 ],
 "metadata": {
  "kernelspec": {
   "display_name": "Python 3 (ipykernel)",
   "language": "python",
   "name": "python3"
  },
  "language_info": {
   "codemirror_mode": {
    "name": "ipython",
    "version": 3
   },
   "file_extension": ".py",
   "mimetype": "text/x-python",
   "name": "python",
   "nbconvert_exporter": "python",
   "pygments_lexer": "ipython3",
   "version": "3.9.12"
  }
 },
 "nbformat": 4,
 "nbformat_minor": 5
}
