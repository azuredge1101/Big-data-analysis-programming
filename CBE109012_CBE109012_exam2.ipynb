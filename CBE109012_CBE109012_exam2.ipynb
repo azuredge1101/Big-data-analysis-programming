{
 "cells": [
  {
   "cell_type": "code",
   "execution_count": 59,
   "id": "53a07fa7",
   "metadata": {},
   "outputs": [
    {
     "name": "stdout",
     "output_type": "stream",
     "text": [
      "姓名積分\n",
      "莊四維2766\n",
      "鄭十全2237\n",
      "李九州2141\n",
      "吳武德1995\n",
      "王一勝1439\n",
      "張七巧1278\n",
      "金六順1112\n",
      "吳二連974\n",
      "姚五福936\n",
      "楊八妹785\n",
      "蔣光彩209\n",
      "陳三省66\n"
     ]
    }
   ],
   "source": [
    "\n",
    "scores = {}\n",
    "\n",
    "with open('exam2-input.txt', 'r', encoding='utf-8') as file:\n",
    "    for line in file:\n",
    "        n, s = line.strip().split(', ')\n",
    "        if n in scores:\n",
    "            scores[n] += int(s)\n",
    "        else:\n",
    "            scores[n] = int(s)\n",
    "\n",
    "\n",
    "sorted_scores = sorted(scores.items(), key=lambda x: x[1], reverse=True)\n",
    "\n",
    "print(\"{}\"\"{}\".format(\"姓名\", \"積分\"))\n",
    "for name, score in sorted_scores:\n",
    "    print(\"{}\"\"{}\".format(name, score))\n"
   ]
  },
  {
   "cell_type": "code",
   "execution_count": null,
   "id": "82a36ea7",
   "metadata": {},
   "outputs": [],
   "source": []
  }
 ],
 "metadata": {
  "kernelspec": {
   "display_name": "Python 3 (ipykernel)",
   "language": "python",
   "name": "python3"
  },
  "language_info": {
   "codemirror_mode": {
    "name": "ipython",
    "version": 3
   },
   "file_extension": ".py",
   "mimetype": "text/x-python",
   "name": "python",
   "nbconvert_exporter": "python",
   "pygments_lexer": "ipython3",
   "version": "3.9.12"
  }
 },
 "nbformat": 4,
 "nbformat_minor": 5
}
