{
 "cells": [
  {
   "cell_type": "code",
   "execution_count": 13,
   "id": "18047a64",
   "metadata": {},
   "outputs": [
    {
     "name": "stdout",
     "output_type": "stream",
     "text": [
      "n = 10\n",
      "多項式A=26x^10 +22x^9 +26x^8 +20x^7 +86x^6 +56x^5 -53x^4 -32x^3 -35x^2 -46x^1 -22x^0\n",
      "多項式B=67x^10 -27x^9 -84x^8 +74x^7 +14x^6 +29x^5 +57x^4 +28x^3 +81x^2 +5x^1 -59x^0\n",
      "相乘結果=1742x^20 +772x^19 -1036x^18 +714x^17 +5030x^16 +2736x^15 -8323x^14 +3963x^13 +13103x^12 +3687x^11 +7366x^10 +5935x^9 +1105x^8 -2809x^7 -13620x^6 -10401x^5 -2410x^4 -2629x^3 +53x^2 +2604x^1 +1298x^0"
     ]
    }
   ],
   "source": [
    "import random\n",
    "\n",
    "n = int(input(\"n = \"))\n",
    "\n",
    "A = [random.randint(-100, 100) for n in range(n+1)]\n",
    "B = [random.randint(-100, 100) for n in range(n+1)]\n",
    "\n",
    "print(\"多項式A=\", end = \"\")\n",
    "for i in range(len(A)-1, -1, -1):\n",
    "    num = A[i]\n",
    "    if i == len(A)-1:\n",
    "        print(f\"{num}x^{i}\", end = \"\")\n",
    "    elif num < 0:\n",
    "        print(f\" {num}x^{i}\", end = \"\")\n",
    "    else:\n",
    "        print(f\" +{num}x^{i}\", end = \"\")\n",
    "print()\n",
    "\n",
    "print(\"多項式B=\", end = \"\")\n",
    "for i in range(len(B)-1, -1, -1):\n",
    "    num = B[i]\n",
    "    if i == len(B)-1:\n",
    "        print(f\"{num}x^{i}\", end = \"\")\n",
    "    elif num < 0:\n",
    "        print(f\" {num}x^{i}\", end = \"\")\n",
    "    else:\n",
    "        print(f\" +{num}x^{i}\", end = \"\")\n",
    "print()\n",
    "\n",
    "result = [0] * (2 * n + 1)\n",
    "for i in range(n + 1):\n",
    "    for j in range(n + 1):\n",
    "        result[i + j] += A[i] * B[j]\n",
    "\n",
    "print(\"相乘結果=\", end = \"\")\n",
    "for i in range(len(result)-1, -1, -1):\n",
    "    num = result[i]\n",
    "    if i == len(result)-1:\n",
    "        print(f\"{num}x^{i}\", end = \"\")\n",
    "    elif num < 0:\n",
    "        print(f\" {num}x^{i}\", end = \"\")\n",
    "    else:\n",
    "        print(f\" +{num}x^{i}\", end = \"\")\n"
   ]
  },
  {
   "cell_type": "code",
   "execution_count": null,
   "id": "a8cd4b91",
   "metadata": {},
   "outputs": [],
   "source": []
  }
 ],
 "metadata": {
  "kernelspec": {
   "display_name": "Python 3 (ipykernel)",
   "language": "python",
   "name": "python3"
  },
  "language_info": {
   "codemirror_mode": {
    "name": "ipython",
    "version": 3
   },
   "file_extension": ".py",
   "mimetype": "text/x-python",
   "name": "python",
   "nbconvert_exporter": "python",
   "pygments_lexer": "ipython3",
   "version": "3.9.12"
  }
 },
 "nbformat": 4,
 "nbformat_minor": 5
}
