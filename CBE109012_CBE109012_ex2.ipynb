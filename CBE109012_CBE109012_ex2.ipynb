{
 "cells": [
  {
   "cell_type": "code",
   "execution_count": 1,
   "id": "6e421137",
   "metadata": {
    "scrolled": true
   },
   "outputs": [
    {
     "name": "stdout",
     "output_type": "stream",
     "text": [
      "原始的座標：\n",
      "(-446, -941) (-801, 974) (109, -253) (-750, 290) (897, -266) (671, 403) (493, -873) (148, -428) (-900, 520) (269, 665) (971, 321) (-702, -634) (962, 248) (470, -984) (144, 658) (-845, -701) (636, 302) (-371, 497) (158, 220) (362, 827)\n",
      "\n",
      "與原點距離最遠的 3 個座標：\n",
      "座標         與原點距離\n",
      "(-801,  974)     1261.1\n",
      "(-845, -701)     1097.9\n",
      "(470, -984)     1090.5\n",
      "\n",
      "與原點距離最近的 3 個座標：\n",
      "座標         與原點距離\n",
      "(158,  220)      270.9\n",
      "(109, -253)      275.5\n",
      "(148, -428)      452.9\n"
     ]
    }
   ],
   "source": [
    "import math\n",
    "\n",
    "\n",
    "with open('ex2-input.txt', 'r') as file:\n",
    "    coordinates = [tuple(map(int, line.strip().split(', '))) for line in file]\n",
    "\n",
    "\n",
    "def calculate_distance(point1, point2):\n",
    "    x1, y1 = point1\n",
    "    x2, y2 = point2\n",
    "    return math.sqrt((x1 - x2)**2 + (y1 - y2)**2)\n",
    "\n",
    "\n",
    "distances_to_origin = [calculate_distance((0, 0), coordinate) for coordinate in coordinates]\n",
    "\n",
    "\n",
    "print(\"原始的座標：\")\n",
    "print(' '.join([f'({x}, {y})' for x, y in coordinates]))\n",
    "\n",
    "\n",
    "print(\"\\n與原點距離最遠的 3 個座標：\")\n",
    "print(f\"{'座標':<10} 與原點距離\")\n",
    "sorted_coordinates = sorted(list(zip(coordinates, distances_to_origin)), key=lambda x: x[1], reverse=True)\n",
    "for coordinate, distance in sorted_coordinates[:3]:\n",
    "    print(f\"({coordinate[0]:>3}, {coordinate[1]:>4}) {distance:>10.1f}\")\n",
    "\n",
    "print(\"\\n與原點距離最近的 3 個座標：\")\n",
    "print(f\"{'座標':<10} 與原點距離\")\n",
    "for coordinate, distance in sorted_coordinates[-1:-4:-1]:\n",
    "    print(f\"({coordinate[0]:>3}, {coordinate[1]:>4}) {distance:>10.1f}\")\n"
   ]
  },
  {
   "cell_type": "code",
   "execution_count": 6,
   "id": "c66d7b45",
   "metadata": {},
   "outputs": [
    {
     "ename": "TypeError",
     "evalue": "'float' object is not callable",
     "output_type": "error",
     "traceback": [
      "\u001b[1;31m---------------------------------------------------------------------------\u001b[0m",
      "\u001b[1;31mTypeError\u001b[0m                                 Traceback (most recent call last)",
      "Cell \u001b[1;32mIn[6], line 13\u001b[0m\n\u001b[0;32m      8\u001b[0m \u001b[38;5;28;01mdef\u001b[39;00m \u001b[38;5;21mdistances\u001b[39m(x1, y1, x2, y2):\n\u001b[0;32m      9\u001b[0m         \u001b[38;5;28;01mreturn\u001b[39;00m math\u001b[38;5;241m.\u001b[39msqrt((x1 \u001b[38;5;241m-\u001b[39m x2)\u001b[38;5;241m*\u001b[39m\u001b[38;5;241m*\u001b[39m\u001b[38;5;241m2\u001b[39m \u001b[38;5;241m+\u001b[39m (y1 \u001b[38;5;241m-\u001b[39m y2)\u001b[38;5;241m*\u001b[39m\u001b[38;5;241m*\u001b[39m\u001b[38;5;241m2\u001b[39m)\n\u001b[1;32m---> 13\u001b[0m origin \u001b[38;5;241m=\u001b[39m [distance((\u001b[38;5;241m0\u001b[39m, \u001b[38;5;241m0\u001b[39m), location) \u001b[38;5;28;01mfor\u001b[39;00m location \u001b[38;5;129;01min\u001b[39;00m place]\n\u001b[0;32m     16\u001b[0m \u001b[38;5;28mprint\u001b[39m(\u001b[38;5;124m\"\u001b[39m\u001b[38;5;124m原始的座標：\u001b[39m\u001b[38;5;124m\"\u001b[39m)\n\u001b[0;32m     17\u001b[0m \u001b[38;5;28mprint\u001b[39m(\u001b[38;5;124m'\u001b[39m\u001b[38;5;124m \u001b[39m\u001b[38;5;124m'\u001b[39m\u001b[38;5;241m.\u001b[39mjoin([\u001b[38;5;124mf\u001b[39m\u001b[38;5;124m'\u001b[39m\u001b[38;5;124m(\u001b[39m\u001b[38;5;132;01m{\u001b[39;00mx\u001b[38;5;132;01m}\u001b[39;00m\u001b[38;5;124m, \u001b[39m\u001b[38;5;132;01m{\u001b[39;00my\u001b[38;5;132;01m}\u001b[39;00m\u001b[38;5;124m)\u001b[39m\u001b[38;5;124m'\u001b[39m \u001b[38;5;28;01mfor\u001b[39;00m x, y \u001b[38;5;129;01min\u001b[39;00m place]))\n",
      "Cell \u001b[1;32mIn[6], line 13\u001b[0m, in \u001b[0;36m<listcomp>\u001b[1;34m(.0)\u001b[0m\n\u001b[0;32m      8\u001b[0m \u001b[38;5;28;01mdef\u001b[39;00m \u001b[38;5;21mdistances\u001b[39m(x1, y1, x2, y2):\n\u001b[0;32m      9\u001b[0m         \u001b[38;5;28;01mreturn\u001b[39;00m math\u001b[38;5;241m.\u001b[39msqrt((x1 \u001b[38;5;241m-\u001b[39m x2)\u001b[38;5;241m*\u001b[39m\u001b[38;5;241m*\u001b[39m\u001b[38;5;241m2\u001b[39m \u001b[38;5;241m+\u001b[39m (y1 \u001b[38;5;241m-\u001b[39m y2)\u001b[38;5;241m*\u001b[39m\u001b[38;5;241m*\u001b[39m\u001b[38;5;241m2\u001b[39m)\n\u001b[1;32m---> 13\u001b[0m origin \u001b[38;5;241m=\u001b[39m [distance((\u001b[38;5;241m0\u001b[39m, \u001b[38;5;241m0\u001b[39m), location) \u001b[38;5;28;01mfor\u001b[39;00m location \u001b[38;5;129;01min\u001b[39;00m place]\n\u001b[0;32m     16\u001b[0m \u001b[38;5;28mprint\u001b[39m(\u001b[38;5;124m\"\u001b[39m\u001b[38;5;124m原始的座標：\u001b[39m\u001b[38;5;124m\"\u001b[39m)\n\u001b[0;32m     17\u001b[0m \u001b[38;5;28mprint\u001b[39m(\u001b[38;5;124m'\u001b[39m\u001b[38;5;124m \u001b[39m\u001b[38;5;124m'\u001b[39m\u001b[38;5;241m.\u001b[39mjoin([\u001b[38;5;124mf\u001b[39m\u001b[38;5;124m'\u001b[39m\u001b[38;5;124m(\u001b[39m\u001b[38;5;132;01m{\u001b[39;00mx\u001b[38;5;132;01m}\u001b[39;00m\u001b[38;5;124m, \u001b[39m\u001b[38;5;132;01m{\u001b[39;00my\u001b[38;5;132;01m}\u001b[39;00m\u001b[38;5;124m)\u001b[39m\u001b[38;5;124m'\u001b[39m \u001b[38;5;28;01mfor\u001b[39;00m x, y \u001b[38;5;129;01min\u001b[39;00m place]))\n",
      "\u001b[1;31mTypeError\u001b[0m: 'float' object is not callable"
     ]
    }
   ],
   "source": [
    "import math\n",
    "\n",
    "\n",
    "with open('ex2-input.txt', 'r') as file:\n",
    "    place = [tuple(map(int, line.strip().split(', '))) for line in file]\n",
    "\n",
    "\n",
    "def distances(x1, y1, x2, y2):\n",
    "        return math.sqrt((x1 - x2)**2 + (y1 - y2)**2)\n",
    "\n",
    "\n",
    "\n",
    "origin = [distance((0, 0), location) for location in place]\n",
    "\n",
    "\n",
    "print(\"原始的座標：\")\n",
    "print(' '.join([f'({x}, {y})' for x, y in place]))\n",
    "\n",
    "\n",
    "print(\"\\n與原點距離最遠的 3 個座標：\")\n",
    "print(f\"{'座標':<10} 與原點距離\")\n",
    "sorted_place = sorted(list(zip(place, origin)), key=lambda x: x[1], reverse=True)\n",
    "for coordinate, distance in sorted_place[:3]:\n",
    "    print(f\"({location[0]:>3}, {location[1]:>4}) {distance:>10.1f}\")\n",
    "\n",
    "print(\"\\n與原點距離最近的 3 個座標：\")\n",
    "print(f\"{'座標':<10} 與原點距離\")\n",
    "for location, distance in sorted_place[-1:-4:-1]:\n",
    "    print(f\"({location[0]:>3}, {location[1]:>4}) {distance:>10.1f}\")"
   ]
  },
  {
   "cell_type": "code",
   "execution_count": null,
   "id": "6f0e3b05",
   "metadata": {},
   "outputs": [],
   "source": []
  }
 ],
 "metadata": {
  "kernelspec": {
   "display_name": "Python 3 (ipykernel)",
   "language": "python",
   "name": "python3"
  },
  "language_info": {
   "codemirror_mode": {
    "name": "ipython",
    "version": 3
   },
   "file_extension": ".py",
   "mimetype": "text/x-python",
   "name": "python",
   "nbconvert_exporter": "python",
   "pygments_lexer": "ipython3",
   "version": "3.11.5"
  }
 },
 "nbformat": 4,
 "nbformat_minor": 5
}
